{
  "nbformat": 4,
  "nbformat_minor": 0,
  "metadata": {
    "colab": {
      "provenance": []
    },
    "kernelspec": {
      "name": "python3",
      "display_name": "Python 3"
    }
  },
  "cells": [
    {
      "cell_type": "markdown",
      "metadata": {
        "id": "6Ijg5wUCTQYG"
      },
      "source": [
        "\n",
        "## **Cleaning Data**\n",
        "\n",
        "* Import data into `pandas`, and use simple functions to diagnose problems in our data.\n",
        "* Visualize missing and out of range data using `missingno` and `seaborn`.\n",
        "* Apply a range of data cleaning tasks that will ensure the delivery of accurate insights.\n",
        "\n",
        "## **The Dataset**\n",
        "\n",
        "The dataset to be used in this webinar is a CSV file named `airbnb.csv`, which contains data on airbnb listings in the state of New York. It contains the following columns:\n",
        "\n",
        "- `listing_id`: The unique identifier for a listing\n",
        "- `description`: The description used on the listing\n",
        "- `host_id`: Unique identifier for a host\n",
        "- `host_name`: Name of host\n",
        "- `neighbourhood_full`: Name of boroughs and neighbourhoods\n",
        "- `coordinates`: Coordinates of listing _(latitude, longitude)_\n",
        "- `Listing added`: Date of added listing\n",
        "- `room_type`: Type of room\n",
        "- `rating`: Rating from 0 to 5.\n",
        "- `price`: Price per night for listing\n",
        "- `number_of_reviews`: Amount of reviews received\n",
        "- `last_review`: Date of last review\n",
        "- `reviews_per_month`: Number of reviews per month\n",
        "- `availability_365`: Number of days available per year\n",
        "- `Number of stays`: Total number of stays thus far\n"
      ]
    },
    {
      "cell_type": "markdown",
      "metadata": {
        "id": "BMYfcKeDY85K"
      },
      "source": [
        "## **Getting started**"
      ]
    },
    {
      "cell_type": "code",
      "metadata": {
        "id": "EMQfyC7GUNhT"
      },
      "source": [
        "# Import libraries\n",
        "import pandas as pd\n",
        "import matplotlib.pyplot as plt\n",
        "import numpy as np\n",
        "import seaborn as sns\n",
        "import missingno as msno\n",
        "import datetime as dt"
      ],
      "execution_count": null,
      "outputs": []
    },
    {
      "cell_type": "code",
      "metadata": {
        "id": "l8t_EwRNZPLB"
      },
      "source": [
        "# Read in the dataset\n",
        "airbnb = pd.read_csv('https://raw.githubusercontent.com/namitakalra-google/Big-Data-Workshop/main/airbnb.csv', index_col = 'Unnamed: 0')"
      ],
      "execution_count": null,
      "outputs": []
    },
    {
      "cell_type": "markdown",
      "metadata": {
        "id": "1ui1uvtyZwfQ"
      },
      "source": [
        "## **Diagnosing data cleaning problems using simple `pandas` and visualizations**"
      ]
    },
    {
      "cell_type": "markdown",
      "metadata": {
        "id": "t3fgtos4Z6Xa"
      },
      "source": [
        "Some important and common methods needed to get a better understanding of DataFrames and diagnose potential data problems are the following:\n",
        "\n",
        "- `.head()` prints the header of a DataFrame\n",
        "- `.dtypes` prints datatypes of all columns in a DataFrame\n",
        "- `.info()` provides a bird's eye view of column data types and missing values in a DataFrame\n",
        "- `.describe()` returns a distribution of numeric columns in your DataFrame\n",
        "- `.isna().sum()` allows us to break down the number of missing values per column in our DataFrame\n",
        "- `.unique()` finds the number of unique values in a DataFrame column\n",
        "\n",
        "<br>\n",
        "\n",
        "- `sns.displot()` plots the distribution of one column in your DataFrame."
      ]
    },
    {
      "cell_type": "code",
      "metadata": {
        "id": "x3w1WbkFZ-ig",
        "outputId": "de5a5fd2-f8a9-4e5a-f6de-a9dc165c4ab9",
        "colab": {
          "base_uri": "https://localhost:8080/",
          "height": 486
        }
      },
      "source": [
        "# Print the header of the DataFrame\n",
        "airbnb.head()"
      ],
      "execution_count": null,
      "outputs": [
        {
          "output_type": "execute_result",
          "data": {
            "text/plain": [
              "   listing_id                                               name    host_id  \\\n",
              "0    13740704  Cozy,budget friendly, cable inc, private entra...   20583125   \n",
              "1    22005115              Two floor apartment near Central Park   82746113   \n",
              "2    21667615                  Beautiful 1BR in Brooklyn Heights      78251   \n",
              "3     6425850                          Spacious, charming studio   32715865   \n",
              "4    22986519              Bedroom on the lively Lower East Side  154262349   \n",
              "\n",
              "  host_name          neighbourhood_full            coordinates  \\\n",
              "0    Michel         Brooklyn, Flatlands  (40.63222, -73.93398)   \n",
              "1   Cecilia  Manhattan, Upper West Side  (40.78761, -73.96862)   \n",
              "2    Leslie  Brooklyn, Brooklyn Heights   (40.7007, -73.99517)   \n",
              "3    Yelena  Manhattan, Upper West Side  (40.79169, -73.97498)   \n",
              "4    Brooke  Manhattan, Lower East Side  (40.71884, -73.98354)   \n",
              "\n",
              "         room_type price  number_of_reviews last_review  reviews_per_month  \\\n",
              "0     Private room   45$                 10  2018-12-12               0.70   \n",
              "1  Entire home/apt  135$                  1  2019-06-30               1.00   \n",
              "2  Entire home/apt  150$                  0         NaN                NaN   \n",
              "3  Entire home/apt   86$                  5  2017-09-23               0.13   \n",
              "4     Private room  160$                 23  2019-06-12               2.29   \n",
              "\n",
              "   availability_365    rating  number_of_stays   5_stars listing_added  \n",
              "0                85  4.100954             12.0  0.609432    2018-06-08  \n",
              "1               145  3.367600              1.2  0.746135    2018-12-25  \n",
              "2                65       NaN              NaN       NaN    2018-08-15  \n",
              "3                 0  4.763203              6.0  0.769947    2017-03-20  \n",
              "4               102  3.822591             27.6  0.649383    2020-10-23  "
            ],
            "text/html": [
              "\n",
              "  <div id=\"df-8f5ac438-d2b2-4421-9a78-6b58a43309fe\" class=\"colab-df-container\">\n",
              "    <div>\n",
              "<style scoped>\n",
              "    .dataframe tbody tr th:only-of-type {\n",
              "        vertical-align: middle;\n",
              "    }\n",
              "\n",
              "    .dataframe tbody tr th {\n",
              "        vertical-align: top;\n",
              "    }\n",
              "\n",
              "    .dataframe thead th {\n",
              "        text-align: right;\n",
              "    }\n",
              "</style>\n",
              "<table border=\"1\" class=\"dataframe\">\n",
              "  <thead>\n",
              "    <tr style=\"text-align: right;\">\n",
              "      <th></th>\n",
              "      <th>listing_id</th>\n",
              "      <th>name</th>\n",
              "      <th>host_id</th>\n",
              "      <th>host_name</th>\n",
              "      <th>neighbourhood_full</th>\n",
              "      <th>coordinates</th>\n",
              "      <th>room_type</th>\n",
              "      <th>price</th>\n",
              "      <th>number_of_reviews</th>\n",
              "      <th>last_review</th>\n",
              "      <th>reviews_per_month</th>\n",
              "      <th>availability_365</th>\n",
              "      <th>rating</th>\n",
              "      <th>number_of_stays</th>\n",
              "      <th>5_stars</th>\n",
              "      <th>listing_added</th>\n",
              "    </tr>\n",
              "  </thead>\n",
              "  <tbody>\n",
              "    <tr>\n",
              "      <th>0</th>\n",
              "      <td>13740704</td>\n",
              "      <td>Cozy,budget friendly, cable inc, private entra...</td>\n",
              "      <td>20583125</td>\n",
              "      <td>Michel</td>\n",
              "      <td>Brooklyn, Flatlands</td>\n",
              "      <td>(40.63222, -73.93398)</td>\n",
              "      <td>Private room</td>\n",
              "      <td>45$</td>\n",
              "      <td>10</td>\n",
              "      <td>2018-12-12</td>\n",
              "      <td>0.70</td>\n",
              "      <td>85</td>\n",
              "      <td>4.100954</td>\n",
              "      <td>12.0</td>\n",
              "      <td>0.609432</td>\n",
              "      <td>2018-06-08</td>\n",
              "    </tr>\n",
              "    <tr>\n",
              "      <th>1</th>\n",
              "      <td>22005115</td>\n",
              "      <td>Two floor apartment near Central Park</td>\n",
              "      <td>82746113</td>\n",
              "      <td>Cecilia</td>\n",
              "      <td>Manhattan, Upper West Side</td>\n",
              "      <td>(40.78761, -73.96862)</td>\n",
              "      <td>Entire home/apt</td>\n",
              "      <td>135$</td>\n",
              "      <td>1</td>\n",
              "      <td>2019-06-30</td>\n",
              "      <td>1.00</td>\n",
              "      <td>145</td>\n",
              "      <td>3.367600</td>\n",
              "      <td>1.2</td>\n",
              "      <td>0.746135</td>\n",
              "      <td>2018-12-25</td>\n",
              "    </tr>\n",
              "    <tr>\n",
              "      <th>2</th>\n",
              "      <td>21667615</td>\n",
              "      <td>Beautiful 1BR in Brooklyn Heights</td>\n",
              "      <td>78251</td>\n",
              "      <td>Leslie</td>\n",
              "      <td>Brooklyn, Brooklyn Heights</td>\n",
              "      <td>(40.7007, -73.99517)</td>\n",
              "      <td>Entire home/apt</td>\n",
              "      <td>150$</td>\n",
              "      <td>0</td>\n",
              "      <td>NaN</td>\n",
              "      <td>NaN</td>\n",
              "      <td>65</td>\n",
              "      <td>NaN</td>\n",
              "      <td>NaN</td>\n",
              "      <td>NaN</td>\n",
              "      <td>2018-08-15</td>\n",
              "    </tr>\n",
              "    <tr>\n",
              "      <th>3</th>\n",
              "      <td>6425850</td>\n",
              "      <td>Spacious, charming studio</td>\n",
              "      <td>32715865</td>\n",
              "      <td>Yelena</td>\n",
              "      <td>Manhattan, Upper West Side</td>\n",
              "      <td>(40.79169, -73.97498)</td>\n",
              "      <td>Entire home/apt</td>\n",
              "      <td>86$</td>\n",
              "      <td>5</td>\n",
              "      <td>2017-09-23</td>\n",
              "      <td>0.13</td>\n",
              "      <td>0</td>\n",
              "      <td>4.763203</td>\n",
              "      <td>6.0</td>\n",
              "      <td>0.769947</td>\n",
              "      <td>2017-03-20</td>\n",
              "    </tr>\n",
              "    <tr>\n",
              "      <th>4</th>\n",
              "      <td>22986519</td>\n",
              "      <td>Bedroom on the lively Lower East Side</td>\n",
              "      <td>154262349</td>\n",
              "      <td>Brooke</td>\n",
              "      <td>Manhattan, Lower East Side</td>\n",
              "      <td>(40.71884, -73.98354)</td>\n",
              "      <td>Private room</td>\n",
              "      <td>160$</td>\n",
              "      <td>23</td>\n",
              "      <td>2019-06-12</td>\n",
              "      <td>2.29</td>\n",
              "      <td>102</td>\n",
              "      <td>3.822591</td>\n",
              "      <td>27.6</td>\n",
              "      <td>0.649383</td>\n",
              "      <td>2020-10-23</td>\n",
              "    </tr>\n",
              "  </tbody>\n",
              "</table>\n",
              "</div>\n",
              "    <div class=\"colab-df-buttons\">\n",
              "\n",
              "  <div class=\"colab-df-container\">\n",
              "    <button class=\"colab-df-convert\" onclick=\"convertToInteractive('df-8f5ac438-d2b2-4421-9a78-6b58a43309fe')\"\n",
              "            title=\"Convert this dataframe to an interactive table.\"\n",
              "            style=\"display:none;\">\n",
              "\n",
              "  <svg xmlns=\"http://www.w3.org/2000/svg\" height=\"24px\" viewBox=\"0 -960 960 960\">\n",
              "    <path d=\"M120-120v-720h720v720H120Zm60-500h600v-160H180v160Zm220 220h160v-160H400v160Zm0 220h160v-160H400v160ZM180-400h160v-160H180v160Zm440 0h160v-160H620v160ZM180-180h160v-160H180v160Zm440 0h160v-160H620v160Z\"/>\n",
              "  </svg>\n",
              "    </button>\n",
              "\n",
              "  <style>\n",
              "    .colab-df-container {\n",
              "      display:flex;\n",
              "      gap: 12px;\n",
              "    }\n",
              "\n",
              "    .colab-df-convert {\n",
              "      background-color: #E8F0FE;\n",
              "      border: none;\n",
              "      border-radius: 50%;\n",
              "      cursor: pointer;\n",
              "      display: none;\n",
              "      fill: #1967D2;\n",
              "      height: 32px;\n",
              "      padding: 0 0 0 0;\n",
              "      width: 32px;\n",
              "    }\n",
              "\n",
              "    .colab-df-convert:hover {\n",
              "      background-color: #E2EBFA;\n",
              "      box-shadow: 0px 1px 2px rgba(60, 64, 67, 0.3), 0px 1px 3px 1px rgba(60, 64, 67, 0.15);\n",
              "      fill: #174EA6;\n",
              "    }\n",
              "\n",
              "    .colab-df-buttons div {\n",
              "      margin-bottom: 4px;\n",
              "    }\n",
              "\n",
              "    [theme=dark] .colab-df-convert {\n",
              "      background-color: #3B4455;\n",
              "      fill: #D2E3FC;\n",
              "    }\n",
              "\n",
              "    [theme=dark] .colab-df-convert:hover {\n",
              "      background-color: #434B5C;\n",
              "      box-shadow: 0px 1px 3px 1px rgba(0, 0, 0, 0.15);\n",
              "      filter: drop-shadow(0px 1px 2px rgba(0, 0, 0, 0.3));\n",
              "      fill: #FFFFFF;\n",
              "    }\n",
              "  </style>\n",
              "\n",
              "    <script>\n",
              "      const buttonEl =\n",
              "        document.querySelector('#df-8f5ac438-d2b2-4421-9a78-6b58a43309fe button.colab-df-convert');\n",
              "      buttonEl.style.display =\n",
              "        google.colab.kernel.accessAllowed ? 'block' : 'none';\n",
              "\n",
              "      async function convertToInteractive(key) {\n",
              "        const element = document.querySelector('#df-8f5ac438-d2b2-4421-9a78-6b58a43309fe');\n",
              "        const dataTable =\n",
              "          await google.colab.kernel.invokeFunction('convertToInteractive',\n",
              "                                                    [key], {});\n",
              "        if (!dataTable) return;\n",
              "\n",
              "        const docLinkHtml = 'Like what you see? Visit the ' +\n",
              "          '<a target=\"_blank\" href=https://colab.research.google.com/notebooks/data_table.ipynb>data table notebook</a>'\n",
              "          + ' to learn more about interactive tables.';\n",
              "        element.innerHTML = '';\n",
              "        dataTable['output_type'] = 'display_data';\n",
              "        await google.colab.output.renderOutput(dataTable, element);\n",
              "        const docLink = document.createElement('div');\n",
              "        docLink.innerHTML = docLinkHtml;\n",
              "        element.appendChild(docLink);\n",
              "      }\n",
              "    </script>\n",
              "  </div>\n",
              "\n",
              "\n",
              "<div id=\"df-b5c24aa5-b504-4641-8dec-cfbdf270a127\">\n",
              "  <button class=\"colab-df-quickchart\" onclick=\"quickchart('df-b5c24aa5-b504-4641-8dec-cfbdf270a127')\"\n",
              "            title=\"Suggest charts\"\n",
              "            style=\"display:none;\">\n",
              "\n",
              "<svg xmlns=\"http://www.w3.org/2000/svg\" height=\"24px\"viewBox=\"0 0 24 24\"\n",
              "     width=\"24px\">\n",
              "    <g>\n",
              "        <path d=\"M19 3H5c-1.1 0-2 .9-2 2v14c0 1.1.9 2 2 2h14c1.1 0 2-.9 2-2V5c0-1.1-.9-2-2-2zM9 17H7v-7h2v7zm4 0h-2V7h2v10zm4 0h-2v-4h2v4z\"/>\n",
              "    </g>\n",
              "</svg>\n",
              "  </button>\n",
              "\n",
              "<style>\n",
              "  .colab-df-quickchart {\n",
              "      --bg-color: #E8F0FE;\n",
              "      --fill-color: #1967D2;\n",
              "      --hover-bg-color: #E2EBFA;\n",
              "      --hover-fill-color: #174EA6;\n",
              "      --disabled-fill-color: #AAA;\n",
              "      --disabled-bg-color: #DDD;\n",
              "  }\n",
              "\n",
              "  [theme=dark] .colab-df-quickchart {\n",
              "      --bg-color: #3B4455;\n",
              "      --fill-color: #D2E3FC;\n",
              "      --hover-bg-color: #434B5C;\n",
              "      --hover-fill-color: #FFFFFF;\n",
              "      --disabled-bg-color: #3B4455;\n",
              "      --disabled-fill-color: #666;\n",
              "  }\n",
              "\n",
              "  .colab-df-quickchart {\n",
              "    background-color: var(--bg-color);\n",
              "    border: none;\n",
              "    border-radius: 50%;\n",
              "    cursor: pointer;\n",
              "    display: none;\n",
              "    fill: var(--fill-color);\n",
              "    height: 32px;\n",
              "    padding: 0;\n",
              "    width: 32px;\n",
              "  }\n",
              "\n",
              "  .colab-df-quickchart:hover {\n",
              "    background-color: var(--hover-bg-color);\n",
              "    box-shadow: 0 1px 2px rgba(60, 64, 67, 0.3), 0 1px 3px 1px rgba(60, 64, 67, 0.15);\n",
              "    fill: var(--button-hover-fill-color);\n",
              "  }\n",
              "\n",
              "  .colab-df-quickchart-complete:disabled,\n",
              "  .colab-df-quickchart-complete:disabled:hover {\n",
              "    background-color: var(--disabled-bg-color);\n",
              "    fill: var(--disabled-fill-color);\n",
              "    box-shadow: none;\n",
              "  }\n",
              "\n",
              "  .colab-df-spinner {\n",
              "    border: 2px solid var(--fill-color);\n",
              "    border-color: transparent;\n",
              "    border-bottom-color: var(--fill-color);\n",
              "    animation:\n",
              "      spin 1s steps(1) infinite;\n",
              "  }\n",
              "\n",
              "  @keyframes spin {\n",
              "    0% {\n",
              "      border-color: transparent;\n",
              "      border-bottom-color: var(--fill-color);\n",
              "      border-left-color: var(--fill-color);\n",
              "    }\n",
              "    20% {\n",
              "      border-color: transparent;\n",
              "      border-left-color: var(--fill-color);\n",
              "      border-top-color: var(--fill-color);\n",
              "    }\n",
              "    30% {\n",
              "      border-color: transparent;\n",
              "      border-left-color: var(--fill-color);\n",
              "      border-top-color: var(--fill-color);\n",
              "      border-right-color: var(--fill-color);\n",
              "    }\n",
              "    40% {\n",
              "      border-color: transparent;\n",
              "      border-right-color: var(--fill-color);\n",
              "      border-top-color: var(--fill-color);\n",
              "    }\n",
              "    60% {\n",
              "      border-color: transparent;\n",
              "      border-right-color: var(--fill-color);\n",
              "    }\n",
              "    80% {\n",
              "      border-color: transparent;\n",
              "      border-right-color: var(--fill-color);\n",
              "      border-bottom-color: var(--fill-color);\n",
              "    }\n",
              "    90% {\n",
              "      border-color: transparent;\n",
              "      border-bottom-color: var(--fill-color);\n",
              "    }\n",
              "  }\n",
              "</style>\n",
              "\n",
              "  <script>\n",
              "    async function quickchart(key) {\n",
              "      const quickchartButtonEl =\n",
              "        document.querySelector('#' + key + ' button');\n",
              "      quickchartButtonEl.disabled = true;  // To prevent multiple clicks.\n",
              "      quickchartButtonEl.classList.add('colab-df-spinner');\n",
              "      try {\n",
              "        const charts = await google.colab.kernel.invokeFunction(\n",
              "            'suggestCharts', [key], {});\n",
              "      } catch (error) {\n",
              "        console.error('Error during call to suggestCharts:', error);\n",
              "      }\n",
              "      quickchartButtonEl.classList.remove('colab-df-spinner');\n",
              "      quickchartButtonEl.classList.add('colab-df-quickchart-complete');\n",
              "    }\n",
              "    (() => {\n",
              "      let quickchartButtonEl =\n",
              "        document.querySelector('#df-b5c24aa5-b504-4641-8dec-cfbdf270a127 button');\n",
              "      quickchartButtonEl.style.display =\n",
              "        google.colab.kernel.accessAllowed ? 'block' : 'none';\n",
              "    })();\n",
              "  </script>\n",
              "</div>\n",
              "\n",
              "    </div>\n",
              "  </div>\n"
            ],
            "application/vnd.google.colaboratory.intrinsic+json": {
              "type": "dataframe",
              "variable_name": "airbnb",
              "summary": "{\n  \"name\": \"airbnb\",\n  \"rows\": 10019,\n  \"fields\": [\n    {\n      \"column\": \"listing_id\",\n      \"properties\": {\n        \"dtype\": \"number\",\n        \"std\": 10950557,\n        \"min\": 3831,\n        \"max\": 36487245,\n        \"num_unique_values\": 9999,\n        \"samples\": [\n          13443640,\n          27606109,\n          23918528\n        ],\n        \"semantic_type\": \"\",\n        \"description\": \"\"\n      }\n    },\n    {\n      \"column\": \"name\",\n      \"properties\": {\n        \"dtype\": \"string\",\n        \"num_unique_values\": 9919,\n        \"samples\": [\n          \"Luxury Apartment in Williamsburg Br\",\n          \"Modern & Spacious in trendy Crown Heights\",\n          \"Modern studio in Queens, NY\"\n        ],\n        \"semantic_type\": \"\",\n        \"description\": \"\"\n      }\n    },\n    {\n      \"column\": \"host_id\",\n      \"properties\": {\n        \"dtype\": \"number\",\n        \"std\": 78631059,\n        \"min\": 2787,\n        \"max\": 274103383,\n        \"num_unique_values\": 8921,\n        \"samples\": [\n          17536826,\n          36830075,\n          44034761\n        ],\n        \"semantic_type\": \"\",\n        \"description\": \"\"\n      }\n    },\n    {\n      \"column\": \"host_name\",\n      \"properties\": {\n        \"dtype\": \"category\",\n        \"num_unique_values\": 4084,\n        \"samples\": [\n          \"Brad\",\n          \"Cherie\",\n          \"Ted\"\n        ],\n        \"semantic_type\": \"\",\n        \"description\": \"\"\n      }\n    },\n    {\n      \"column\": \"neighbourhood_full\",\n      \"properties\": {\n        \"dtype\": \"category\",\n        \"num_unique_values\": 198,\n        \"samples\": [\n          \"Brooklyn, Vinegar Hill\",\n          \"Queens, South Ozone Park\",\n          \"Brooklyn, Park Slope\"\n        ],\n        \"semantic_type\": \"\",\n        \"description\": \"\"\n      }\n    },\n    {\n      \"column\": \"coordinates\",\n      \"properties\": {\n        \"dtype\": \"string\",\n        \"num_unique_values\": 9997,\n        \"samples\": [\n          \"(40.74596, -73.98195)\",\n          \"(40.68294, -73.93979)\",\n          \"(40.80091, -73.95912)\"\n        ],\n        \"semantic_type\": \"\",\n        \"description\": \"\"\n      }\n    },\n    {\n      \"column\": \"room_type\",\n      \"properties\": {\n        \"dtype\": \"category\",\n        \"num_unique_values\": 7,\n        \"samples\": [\n          \"Private room\",\n          \"Entire home/apt\",\n          \"home\"\n        ],\n        \"semantic_type\": \"\",\n        \"description\": \"\"\n      }\n    },\n    {\n      \"column\": \"price\",\n      \"properties\": {\n        \"dtype\": \"category\",\n        \"num_unique_values\": 433,\n        \"samples\": [\n          \"218$\",\n          \"97$\",\n          \"202$\"\n        ],\n        \"semantic_type\": \"\",\n        \"description\": \"\"\n      }\n    },\n    {\n      \"column\": \"number_of_reviews\",\n      \"properties\": {\n        \"dtype\": \"number\",\n        \"std\": 43,\n        \"min\": 0,\n        \"max\": 510,\n        \"num_unique_values\": 271,\n        \"samples\": [\n          49,\n          395,\n          87\n        ],\n        \"semantic_type\": \"\",\n        \"description\": \"\"\n      }\n    },\n    {\n      \"column\": \"last_review\",\n      \"properties\": {\n        \"dtype\": \"object\",\n        \"num_unique_values\": 1222,\n        \"samples\": [\n          \"2018-03-03\",\n          \"2018-08-12\",\n          \"2017-03-19\"\n        ],\n        \"semantic_type\": \"\",\n        \"description\": \"\"\n      }\n    },\n    {\n      \"column\": \"reviews_per_month\",\n      \"properties\": {\n        \"dtype\": \"number\",\n        \"std\": 1.615380362939802,\n        \"min\": 0.01,\n        \"max\": 16.22,\n        \"num_unique_values\": 683,\n        \"samples\": [\n          2.01,\n          0.21,\n          0.6\n        ],\n        \"semantic_type\": \"\",\n        \"description\": \"\"\n      }\n    },\n    {\n      \"column\": \"availability_365\",\n      \"properties\": {\n        \"dtype\": \"number\",\n        \"std\": 131,\n        \"min\": 0,\n        \"max\": 365,\n        \"num_unique_values\": 366,\n        \"samples\": [\n          176,\n          346,\n          327\n        ],\n        \"semantic_type\": \"\",\n        \"description\": \"\"\n      }\n    },\n    {\n      \"column\": \"rating\",\n      \"properties\": {\n        \"dtype\": \"number\",\n        \"std\": 0.5750640506651105,\n        \"min\": 3.0006328518730045,\n        \"max\": 5.181114075085006,\n        \"num_unique_values\": 7929,\n        \"samples\": [\n          4.637912319612115,\n          3.536940941851745,\n          4.2094052590709525\n        ],\n        \"semantic_type\": \"\",\n        \"description\": \"\"\n      }\n    },\n    {\n      \"column\": \"number_of_stays\",\n      \"properties\": {\n        \"dtype\": \"number\",\n        \"std\": 56.08927874534113,\n        \"min\": 1.2,\n        \"max\": 612.0,\n        \"num_unique_values\": 270,\n        \"samples\": [\n          88.8,\n          181.2,\n          160.79999999999995\n        ],\n        \"semantic_type\": \"\",\n        \"description\": \"\"\n      }\n    },\n    {\n      \"column\": \"5_stars\",\n      \"properties\": {\n        \"dtype\": \"number\",\n        \"std\": 0.07997790969406636,\n        \"min\": 0.6000262780807892,\n        \"max\": 0.950338755277715,\n        \"num_unique_values\": 7928,\n        \"samples\": [\n          0.7134890629181121,\n          0.6781215954844644,\n          0.6343250774419007\n        ],\n        \"semantic_type\": \"\",\n        \"description\": \"\"\n      }\n    },\n    {\n      \"column\": \"listing_added\",\n      \"properties\": {\n        \"dtype\": \"object\",\n        \"num_unique_values\": 1235,\n        \"samples\": [\n          \"2017-11-14\",\n          \"2016-06-05\",\n          \"2017-12-08\"\n        ],\n        \"semantic_type\": \"\",\n        \"description\": \"\"\n      }\n    }\n  ]\n}"
            }
          },
          "metadata": {},
          "execution_count": 3
        }
      ]
    },
    {
      "cell_type": "markdown",
      "metadata": {
        "id": "kdp2jmQDal5L"
      },
      "source": [
        "By merely looking at the data, we can already diagnose a range of potential problems down the line such as:\n",
        "\n",
        "<br>\n",
        "\n",
        "_Data type problems:_\n",
        "\n",
        "- **Problem 1**: We can see that the `coordinates` column is probably a string (`str`) - most mapping functions require a latitude input, and longitude input, so it's best to split this column into two and convert the values to `float`.\n",
        "- **Problem 2**: Similar to `coordinates` - the `price` column also is a string with `$` attached to each price point, we need to convert that to `float` if we want a good understanding of the dataset.\n",
        "- **Problem 3**: We need to make sure date columns (`last_review` and `listing_added`) are in `datetime` to allow easier manipulation of data data.\n",
        "\n",
        "<br>\n",
        "\n",
        "_Missing data problems:_\n",
        "\n",
        "- **Problem 4**: We can see that there are missing data in some columns, we'll get a better bird's eye view of that down the line.\n",
        "\n",
        "<br>\n",
        "\n",
        "_Text/categorical data problems:_\n",
        "\n",
        "\n",
        "- **Problem 5**: To be able to visualize number of listings by boroughs - we need to separate neighborhoud name from borough name in `neighbourhood_full` column.\n",
        "- **Problem 6**: Looking at `room_type`, let's replace those values to make them `'Shared Room'`, `'Private Home/Apartment'`, `'Private Room'` and `'Hotel Room'`."
      ]
    },
    {
      "cell_type": "code",
      "metadata": {
        "id": "SiWS3EiPakp2",
        "outputId": "37e86405-5adf-488b-e175-036a2073cb19",
        "colab": {
          "base_uri": "https://localhost:8080/",
          "height": 306
        }
      },
      "source": [
        "# Print data types of DataFrame\n",
        "airbnb.dtypes"
      ],
      "execution_count": null,
      "outputs": [
        {
          "output_type": "execute_result",
          "data": {
            "text/plain": [
              "listing_id              int64\n",
              "name                   object\n",
              "host_id                 int64\n",
              "host_name              object\n",
              "neighbourhood_full     object\n",
              "coordinates            object\n",
              "room_type              object\n",
              "price                  object\n",
              "number_of_reviews       int64\n",
              "last_review            object\n",
              "reviews_per_month     float64\n",
              "availability_365        int64\n",
              "rating                float64\n",
              "number_of_stays       float64\n",
              "5_stars               float64\n",
              "listing_added          object\n",
              "dtype: object"
            ]
          },
          "metadata": {
            "tags": []
          },
          "execution_count": 7
        }
      ]
    },
    {
      "cell_type": "markdown",
      "metadata": {
        "id": "Sjn8XH8IiO5q"
      },
      "source": [
        "Printing the data types confirms that `coordinates` and `price` need to be converted to `float`, and date columns need to be converted to `datetime` _(**problems 1,2 3)**_"
      ]
    },
    {
      "cell_type": "code",
      "metadata": {
        "id": "KoT5LMdSiW1H",
        "outputId": "e9b0d55b-8b0b-423a-8e10-a1f76def2f8f",
        "colab": {
          "base_uri": "https://localhost:8080/",
          "height": 408
        }
      },
      "source": [
        "# Print info of DataFrame\n",
        "airbnb.info()"
      ],
      "execution_count": null,
      "outputs": [
        {
          "output_type": "stream",
          "text": [
            "<class 'pandas.core.frame.DataFrame'>\n",
            "Int64Index: 10019 entries, 0 to 10018\n",
            "Data columns (total 16 columns):\n",
            " #   Column              Non-Null Count  Dtype  \n",
            "---  ------              --------------  -----  \n",
            " 0   listing_id          10019 non-null  int64  \n",
            " 1   name                10014 non-null  object \n",
            " 2   host_id             10019 non-null  int64  \n",
            " 3   host_name           10017 non-null  object \n",
            " 4   neighbourhood_full  10019 non-null  object \n",
            " 5   coordinates         10019 non-null  object \n",
            " 6   room_type           10019 non-null  object \n",
            " 7   price               9781 non-null   object \n",
            " 8   number_of_reviews   10019 non-null  int64  \n",
            " 9   last_review         7944 non-null   object \n",
            " 10  reviews_per_month   7944 non-null   float64\n",
            " 11  availability_365    10019 non-null  int64  \n",
            " 12  rating              7944 non-null   float64\n",
            " 13  number_of_stays     7944 non-null   float64\n",
            " 14  5_stars             7944 non-null   float64\n",
            " 15  listing_added       10019 non-null  object \n",
            "dtypes: float64(4), int64(4), object(8)\n",
            "memory usage: 1.3+ MB\n"
          ],
          "name": "stdout"
        }
      ]
    },
    {
      "cell_type": "markdown",
      "metadata": {
        "id": "HjJ3UoLJey41"
      },
      "source": [
        "Printing the info confirms our hunch about the following:\n",
        "\n",
        "- There is missing data in the `price`, `last_review`, `reviews_per_month`, `rating`, `number_of_stays`, `5_stars` columns. It also seems that the missingness of `last_review`, `reviews_per_month`, `rating`, `number_of_stays`, `5_stars` are related since they have the same amount of missing data. We will confirm later with `missingno` _(**problem 4**)_."
      ]
    },
    {
      "cell_type": "code",
      "metadata": {
        "id": "dvsinK9zexdv",
        "outputId": "f260a9c3-562a-4935-b5e0-79d74c4c3002",
        "colab": {
          "base_uri": "https://localhost:8080/",
          "height": 306
        }
      },
      "source": [
        "# Print number of missing values\n",
        "airbnb.isna().sum()"
      ],
      "execution_count": null,
      "outputs": [
        {
          "output_type": "execute_result",
          "data": {
            "text/plain": [
              "listing_id               0\n",
              "name                     5\n",
              "host_id                  0\n",
              "host_name                2\n",
              "neighbourhood_full       0\n",
              "coordinates              0\n",
              "room_type                0\n",
              "price                  238\n",
              "number_of_reviews        0\n",
              "last_review           2075\n",
              "reviews_per_month     2075\n",
              "availability_365         0\n",
              "rating                2075\n",
              "number_of_stays       2075\n",
              "5_stars               2075\n",
              "listing_added            0\n",
              "dtype: int64"
            ]
          },
          "metadata": {
            "tags": []
          },
          "execution_count": 9
        }
      ]
    },
    {
      "cell_type": "markdown",
      "metadata": {
        "id": "BLtjk34CgDdF"
      },
      "source": [
        "There are a variety of ways of dealing with missing data that is dependent on type of missingness, as well as the business assumptions behind our data - our options could be:\n",
        "\n",
        "- Dropping missing data (if the data dropped does not impact or skew our data)\n",
        "- Setting to missing and impute with statistical measures (median, mean, mode ...)\n",
        "- Imputing with more complex algorithmic/machine learning based approaches\n",
        "- Impute based on business assumptions of our data"
      ]
    },
    {
      "cell_type": "code",
      "metadata": {
        "id": "ydyKeLnKgAHq",
        "outputId": "b5211fb0-1ce2-4cde-a9f5-7e3cb6e07911",
        "colab": {
          "base_uri": "https://localhost:8080/",
          "height": 297
        }
      },
      "source": [
        "# Print description of DataFrame\n",
        "airbnb.describe()"
      ],
      "execution_count": null,
      "outputs": [
        {
          "output_type": "execute_result",
          "data": {
            "text/html": [
              "<div>\n",
              "<style scoped>\n",
              "    .dataframe tbody tr th:only-of-type {\n",
              "        vertical-align: middle;\n",
              "    }\n",
              "\n",
              "    .dataframe tbody tr th {\n",
              "        vertical-align: top;\n",
              "    }\n",
              "\n",
              "    .dataframe thead th {\n",
              "        text-align: right;\n",
              "    }\n",
              "</style>\n",
              "<table border=\"1\" class=\"dataframe\">\n",
              "  <thead>\n",
              "    <tr style=\"text-align: right;\">\n",
              "      <th></th>\n",
              "      <th>listing_id</th>\n",
              "      <th>host_id</th>\n",
              "      <th>number_of_reviews</th>\n",
              "      <th>reviews_per_month</th>\n",
              "      <th>availability_365</th>\n",
              "      <th>rating</th>\n",
              "      <th>number_of_stays</th>\n",
              "      <th>5_stars</th>\n",
              "    </tr>\n",
              "  </thead>\n",
              "  <tbody>\n",
              "    <tr>\n",
              "      <th>count</th>\n",
              "      <td>1.001900e+04</td>\n",
              "      <td>1.001900e+04</td>\n",
              "      <td>10019.000000</td>\n",
              "      <td>7944.000000</td>\n",
              "      <td>10019.000000</td>\n",
              "      <td>7944.000000</td>\n",
              "      <td>7944.000000</td>\n",
              "      <td>7944.000000</td>\n",
              "    </tr>\n",
              "    <tr>\n",
              "      <th>mean</th>\n",
              "      <td>1.927634e+07</td>\n",
              "      <td>6.795923e+07</td>\n",
              "      <td>22.459727</td>\n",
              "      <td>1.353894</td>\n",
              "      <td>112.284260</td>\n",
              "      <td>4.014458</td>\n",
              "      <td>33.991541</td>\n",
              "      <td>0.718599</td>\n",
              "    </tr>\n",
              "    <tr>\n",
              "      <th>std</th>\n",
              "      <td>1.095056e+07</td>\n",
              "      <td>7.863106e+07</td>\n",
              "      <td>43.173896</td>\n",
              "      <td>1.615380</td>\n",
              "      <td>131.636043</td>\n",
              "      <td>0.575064</td>\n",
              "      <td>56.089279</td>\n",
              "      <td>0.079978</td>\n",
              "    </tr>\n",
              "    <tr>\n",
              "      <th>min</th>\n",
              "      <td>3.831000e+03</td>\n",
              "      <td>2.787000e+03</td>\n",
              "      <td>0.000000</td>\n",
              "      <td>0.010000</td>\n",
              "      <td>0.000000</td>\n",
              "      <td>3.000633</td>\n",
              "      <td>1.200000</td>\n",
              "      <td>0.600026</td>\n",
              "    </tr>\n",
              "    <tr>\n",
              "      <th>25%</th>\n",
              "      <td>9.674772e+06</td>\n",
              "      <td>7.910880e+06</td>\n",
              "      <td>1.000000</td>\n",
              "      <td>0.200000</td>\n",
              "      <td>0.000000</td>\n",
              "      <td>3.520443</td>\n",
              "      <td>3.600000</td>\n",
              "      <td>0.655576</td>\n",
              "    </tr>\n",
              "    <tr>\n",
              "      <th>50%</th>\n",
              "      <td>2.007030e+07</td>\n",
              "      <td>3.165167e+07</td>\n",
              "      <td>5.000000</td>\n",
              "      <td>0.710000</td>\n",
              "      <td>44.000000</td>\n",
              "      <td>4.027965</td>\n",
              "      <td>10.800000</td>\n",
              "      <td>0.709768</td>\n",
              "    </tr>\n",
              "    <tr>\n",
              "      <th>75%</th>\n",
              "      <td>2.933864e+07</td>\n",
              "      <td>1.074344e+08</td>\n",
              "      <td>22.000000</td>\n",
              "      <td>2.000000</td>\n",
              "      <td>226.000000</td>\n",
              "      <td>4.516378</td>\n",
              "      <td>38.400000</td>\n",
              "      <td>0.763978</td>\n",
              "    </tr>\n",
              "    <tr>\n",
              "      <th>max</th>\n",
              "      <td>3.648724e+07</td>\n",
              "      <td>2.741034e+08</td>\n",
              "      <td>510.000000</td>\n",
              "      <td>16.220000</td>\n",
              "      <td>365.000000</td>\n",
              "      <td>5.181114</td>\n",
              "      <td>612.000000</td>\n",
              "      <td>0.950339</td>\n",
              "    </tr>\n",
              "  </tbody>\n",
              "</table>\n",
              "</div>"
            ],
            "text/plain": [
              "         listing_id       host_id  ...  number_of_stays      5_stars\n",
              "count  1.001900e+04  1.001900e+04  ...      7944.000000  7944.000000\n",
              "mean   1.927634e+07  6.795923e+07  ...        33.991541     0.718599\n",
              "std    1.095056e+07  7.863106e+07  ...        56.089279     0.079978\n",
              "min    3.831000e+03  2.787000e+03  ...         1.200000     0.600026\n",
              "25%    9.674772e+06  7.910880e+06  ...         3.600000     0.655576\n",
              "50%    2.007030e+07  3.165167e+07  ...        10.800000     0.709768\n",
              "75%    2.933864e+07  1.074344e+08  ...        38.400000     0.763978\n",
              "max    3.648724e+07  2.741034e+08  ...       612.000000     0.950339\n",
              "\n",
              "[8 rows x 8 columns]"
            ]
          },
          "metadata": {
            "tags": []
          },
          "execution_count": 10
        }
      ]
    },
    {
      "cell_type": "markdown",
      "metadata": {
        "id": "1aPYQW_7glnK"
      },
      "source": [
        "\n",
        "\n",
        "- **Problem 7:** Looking at the maximum of the `rating` column - we see that it is out of range of `5` which is the maximum rating possible. We need to make sure we fix the range this column.\n",
        "\n",
        "It's worth noting that `.describe()` does not offer a bird's eye view of all the out of range data we have, for example, what if we have date data in the future? Or given our dataset, `listing_added` dates that are in the future of `last_review` dates?"
      ]
    },
    {
      "cell_type": "code",
      "metadata": {
        "id": "VVJat5xZjJLX",
        "outputId": "7685d388-00bf-44aa-c928-c12c0d8ea53c",
        "colab": {
          "base_uri": "https://localhost:8080/",
          "height": 295
        }
      },
      "source": [
        "# Visualize the distribution of the rating column\n",
        "sns.distplot(airbnb['rating'], bins = 20)\n",
        "plt.title('Distribution of listing ratings')\n",
        "plt.show()"
      ],
      "execution_count": null,
      "outputs": [
        {
          "output_type": "display_data",
          "data": {
            "image/png": "[encoded data removed]",
            "text/plain": [
              "<Figure size 432x288 with 1 Axes>"
            ]
          },
          "metadata": {
            "tags": []
          }
        }
      ]
    },
    {
      "cell_type": "code",
      "metadata": {
        "id": "mvJGrqxRjihF",
        "outputId": "32d8a75f-4b2d-4a3f-fae2-e1ed7e1eac8f",
        "colab": {
          "base_uri": "https://localhost:8080/",
          "height": 51
        }
      },
      "source": [
        "# Find number of unique values in room_type column\n",
        "airbnb['room_type'].unique()"
      ],
      "execution_count": null,
      "outputs": [
        {
          "output_type": "execute_result",
          "data": {
            "text/plain": [
              "array(['Private room', 'Entire home/apt', 'Private', 'Shared room',\n",
              "       'PRIVATE ROOM', 'home', '   Shared room      '], dtype=object)"
            ]
          },
          "metadata": {
            "tags": []
          },
          "execution_count": 12
        }
      ]
    },
    {
      "cell_type": "markdown",
      "metadata": {
        "id": "Zo61ZW9Vk9CC"
      },
      "source": [
        "- **Problem 8**: There are trailing spaces and capitalization issues with `room_type`, we need to fix this problem."
      ]
    },
    {
      "cell_type": "code",
      "metadata": {
        "id": "tZ0SBerlm2hS",
        "outputId": "ff9af494-19c6-4628-8800-501312af9e4b",
        "colab": {
          "base_uri": "https://localhost:8080/",
          "height": 153
        }
      },
      "source": [
        "# How many values of different room_types do we have?\n",
        "airbnb['room_type'].value_counts()"
      ],
      "execution_count": null,
      "outputs": [
        {
          "output_type": "execute_result",
          "data": {
            "text/plain": [
              "Entire home/apt         5120\n",
              "Private room            4487\n",
              "Shared room              155\n",
              "Private                   89\n",
              "   Shared room            71\n",
              "home                      66\n",
              "PRIVATE ROOM              31\n",
              "Name: room_type, dtype: int64"
            ]
          },
          "metadata": {
            "tags": []
          },
          "execution_count": 13
        }
      ]
    },
    {
      "cell_type": "markdown",
      "metadata": {
        "id": "WqwmfLp9lKjU"
      },
      "source": [
        "## **Our to do list:**\n",
        "\n",
        "_Data type problems:_\n",
        "\n",
        "- **Task 1**: Split `coordinates` into 2 columns and convert them to `float`\n",
        "- **Task 2**: Remove `$` from `price` and convert it to `float`\n",
        "- **Task 3**: Convert `listing_added` and `last_review` to `datetime`\n",
        "\n",
        "<br>\n",
        "\n",
        "_Text/categorical data problems:_\n",
        "\n",
        "- **Task 4**: We need to collapse `room_type` into correct categories\n",
        "- **Task 5**: Divide `neighbourhood_full` into 2 columns and making sure they are clean\n",
        "\n",
        "<br>\n",
        "\n",
        "_Data range problems:_\n",
        "\n",
        "- **Task 6**: Make sure we set the correct maximum for `rating` column out of range values\n",
        "\n",
        "<br>\n",
        "\n",
        "_Dealing with missing data:_\n",
        "\n",
        "- **Task 7**: Understand the type of missingness, and deal with the missing data in most of the remaining columns.\n",
        "\n",
        "<br>\n",
        "\n",
        "_Is that all though?_\n",
        "\n",
        "- We need to investigate if we have duplicates in our data\n",
        "- We need to make sure that data makes sense by applying some sanity checks on our DataFrame"
      ]
    }
  ]
}