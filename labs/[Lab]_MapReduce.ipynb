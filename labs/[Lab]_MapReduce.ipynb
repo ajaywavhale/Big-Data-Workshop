{
  "nbformat": 4,
  "nbformat_minor": 0,
  "metadata": {
    "colab": {
      "provenance": [],
      "authorship_tag": "ABX9TyOQwBGcoDH6NIClbGiApisM",
      "include_colab_link": true
    },
    "kernelspec": {
      "name": "python3",
      "display_name": "Python 3"
    },
    "language_info": {
      "name": "python"
    }
  },
  "cells": [
    {
      "cell_type": "markdown",
      "metadata": {
        "id": "view-in-github",
        "colab_type": "text"
      },
      "source": [
        "<a href=\"https://colab.research.google.com/github/namitakalra-google/Big-Data-Workshop/blob/main/%5BLab%5D_MapReduce.ipynb\" target=\"_parent\"><img src=\"https://colab.research.google.com/assets/colab-badge.svg\" alt=\"Open In Colab\"/></a>"
      ]
    },
    {
      "cell_type": "markdown",
      "source": [
        "<center><h1>Introduction to Map Reduce</h1></center>"
      ],
      "metadata": {
        "id": "i8nJdQs-sOHm"
      }
    },
    {
      "cell_type": "markdown",
      "source": [
        "### Overview\n",
        "\n",
        "1. Recap of functional programming in Python\n",
        "2. Python's `map` and `reduce` functions\n",
        "3. Writing parallel code using `map`\n",
        "4. The Map-Reduce programming model"
      ],
      "metadata": {
        "id": "_uk6RLU3sSTo"
      }
    },
    {
      "cell_type": "markdown",
      "metadata": {
        "id": "66LbLb3cEmfz"
      },
      "source": [
        "## Functional programming\n",
        "\n",
        "Write code for the following functions that take in a list of numbers & return a list with each number multiplied with -\n",
        "\n",
        "a) 2\n",
        "\n",
        "b) 4"
      ]
    },
    {
      "cell_type": "code",
      "execution_count": null,
      "metadata": {
        "id": "phDlwkAnEmfz"
      },
      "outputs": [],
      "source": [
        "def double_everything_in(data):\n",
        "    ## write your code here ##\n",
        "    return\n",
        "\n",
        "def quadruple_everything_in(data):\n",
        "    ## write your code here ##\n",
        "    return"
      ]
    },
    {
      "cell_type": "code",
      "execution_count": null,
      "metadata": {
        "id": "VvdpwihaEmf1"
      },
      "outputs": [],
      "source": [
        "double_everything_in([1, 2, 3, 4, 5])"
      ]
    },
    {
      "cell_type": "code",
      "execution_count": null,
      "metadata": {
        "id": "ULdAr-dWEmf2"
      },
      "outputs": [],
      "source": [
        "quadruple_everything_in([1, 2, 3, 4, 5])"
      ]
    },
    {
      "cell_type": "markdown",
      "metadata": {
        "id": "PFUb9kCyEmf3"
      },
      "source": [
        "### DRY - Fundamental Programming Concept\n",
        "\n",
        "- The above code violates the [\"do not repeat yourself\"](https://en.wikipedia.org/wiki/Don't_repeat_yourself_) principle of good software engineering practice.\n",
        "\n",
        "- How can rewrite the code so that it avoids duplication?"
      ]
    },
    {
      "cell_type": "code",
      "source": [
        "##### Fill your code here #######"
      ],
      "metadata": {
        "id": "VS63SO3W7pNX"
      },
      "execution_count": null,
      "outputs": []
    },
    {
      "cell_type": "markdown",
      "metadata": {
        "id": "ruC7NCZdEmf4"
      },
      "source": [
        "- Now consider the following code that returns -\n",
        "\n",
        "a) Each number squared\n",
        "\n",
        "b) Each number doubled"
      ]
    },
    {
      "cell_type": "code",
      "execution_count": null,
      "metadata": {
        "id": "HnsAgaWUEmf4"
      },
      "outputs": [],
      "source": [
        "## returns square of the given number \"x\"\n",
        "def squared(x):\n",
        "    ## fill your code here ##\n",
        "    return\n",
        "\n",
        "## returns double of the given number \"x\"\n",
        "def double(x):\n",
        "    ## fill your code here ##\n",
        "    return\n",
        "\n",
        "## returns a list of squared numbers from \"data\"\n",
        "def square_everything_in(data):\n",
        "    ## fill your code here ##\n",
        "    return\n",
        "\n",
        "## returns a list of doubled numbers from \"data\"\n",
        "def double_everything_in(data):\n",
        "    ## fill your code here ##\n",
        "    return"
      ]
    },
    {
      "cell_type": "code",
      "execution_count": null,
      "metadata": {
        "id": "0_UW5EduEmf4"
      },
      "outputs": [],
      "source": [
        "square_everything_in([1, 2, 3, 4, 5])"
      ]
    },
    {
      "cell_type": "code",
      "execution_count": null,
      "metadata": {
        "id": "c1wEvd9eEmf4"
      },
      "outputs": [],
      "source": [
        "double_everything_in([1, 2, 3, 4, 5])"
      ]
    },
    {
      "cell_type": "markdown",
      "metadata": {
        "id": "Ay8d7PMhEmf5"
      },
      "source": [
        "### DRY - Fundamental Programming Concept\n",
        "- The above code violates the [\"do not repeat yourself\"](https://en.wikipedia.org/wiki/Don't_repeat_yourself_) principle of good software engineering practice.\n",
        "\n",
        "- How can rewrite the code so that it avoids duplication?\n",
        "\n",
        "- Hint: Functions can be passed to other functions as values.\n"
      ]
    },
    {
      "cell_type": "code",
      "source": [
        "def apply_f_to_everything_in(f, data):\n",
        "  ## fill your code here ##\n",
        "  return"
      ],
      "metadata": {
        "id": "d1eK9jPmQjeW"
      },
      "execution_count": null,
      "outputs": []
    },
    {
      "cell_type": "markdown",
      "metadata": {
        "id": "k7LCBcrSEmf5"
      },
      "source": [
        "### Lambda expressions\n",
        "\n",
        "- We can use anonymous functions to save having to define a function each time we want to use map."
      ]
    },
    {
      "cell_type": "code",
      "source": [],
      "metadata": {
        "id": "sDc21u-HeZOW"
      },
      "execution_count": null,
      "outputs": []
    },
    {
      "cell_type": "code",
      "execution_count": null,
      "metadata": {
        "id": "ydAI6YuOEmf6"
      },
      "outputs": [],
      "source": [
        "apply_f_to_everything_in(lambda x: x*x, [1, 2, 3, 4, 5])"
      ]
    },
    {
      "cell_type": "markdown",
      "metadata": {
        "id": "gMUO-dOrEmf6"
      },
      "source": [
        "# Python's `map` function\n",
        "\n",
        "- Python has a built-in function `map` which is much faster than our version.\n",
        "\n"
      ]
    },
    {
      "cell_type": "code",
      "execution_count": null,
      "metadata": {
        "id": "lGbe_3-_Emf6",
        "colab": {
          "base_uri": "https://localhost:8080/"
        },
        "outputId": "c001f883-1948-42c4-baf7-38cef937a8d1"
      },
      "outputs": [
        {
          "output_type": "execute_result",
          "data": {
            "text/plain": [
              "<map at 0x7b51a987bb50>"
            ]
          },
          "metadata": {},
          "execution_count": 7
        }
      ],
      "source": [
        "map(lambda x: x*x, [1, 2, 3, 4, 5])"
      ]
    },
    {
      "cell_type": "code",
      "source": [
        "list(map(lambda x: x*x, [1, 2, 3, 4, 5]))"
      ],
      "metadata": {
        "id": "eJ1hQFqssgcB",
        "colab": {
          "base_uri": "https://localhost:8080/"
        },
        "outputId": "24cc18ff-b6a5-4cd8-d745-1932db8bb416"
      },
      "execution_count": null,
      "outputs": [
        {
          "output_type": "execute_result",
          "data": {
            "text/plain": [
              "[1, 4, 9, 16, 25]"
            ]
          },
          "metadata": {},
          "execution_count": 8
        }
      ]
    },
    {
      "cell_type": "markdown",
      "metadata": {
        "id": "yVJLiQnBEmf6"
      },
      "source": [
        "## Implementing reduce\n",
        "\n",
        "- The `reduce` function is an example of a [fold](https://en.wikipedia.org/wiki/Fold_%28higher-order_function%29).\n",
        "\n",
        "- There are different ways we can fold data.\n",
        "\n",
        "- The following implements a *left* fold.\n"
      ]
    },
    {
      "cell_type": "code",
      "execution_count": null,
      "metadata": {
        "id": "EQoyhtZ0Emf6"
      },
      "outputs": [],
      "source": [
        "def foldl(f, data, z):\n",
        "    if (len(data) == 0):\n",
        "        print (z)\n",
        "        return z\n",
        "    else:\n",
        "        head = data[0]\n",
        "        tail = data[1:]\n",
        "        print (\"Folding\", head, \"with\", tail, \"using\", z)\n",
        "        partial_result = f(z, data[0])\n",
        "        print (\"Partial result is\", partial_result)\n",
        "        return foldl(f, tail, partial_result)"
      ]
    },
    {
      "cell_type": "code",
      "execution_count": null,
      "metadata": {
        "id": "i2vX8l0DuIgO",
        "colab": {
          "base_uri": "https://localhost:8080/"
        },
        "outputId": "a00fead8-85a0-4720-9820-489e7bb04439"
      },
      "outputs": [
        {
          "output_type": "stream",
          "name": "stdout",
          "text": [
            "Folding 1 with [2, 3, 4, 5] using 0\n",
            "Partial result is 1\n",
            "Folding 2 with [3, 4, 5] using 1\n",
            "Partial result is 3\n",
            "Folding 3 with [4, 5] using 3\n",
            "Partial result is 6\n",
            "Folding 4 with [5] using 6\n",
            "Partial result is 10\n",
            "Folding 5 with [] using 10\n",
            "Partial result is 15\n",
            "15\n"
          ]
        },
        {
          "output_type": "execute_result",
          "data": {
            "text/plain": [
              "15"
            ]
          },
          "metadata": {},
          "execution_count": 10
        }
      ],
      "source": [
        "foldl(lambda x, y: x + y, [1, 2, 3, 4, 5], 0)"
      ]
    },
    {
      "cell_type": "markdown",
      "metadata": {
        "id": "kc3HsKwYEmf8"
      },
      "source": [
        "## Python's `reduce` function.\n",
        "\n",
        "- Python's built-in `reduce` function is a *left* fold."
      ]
    },
    {
      "cell_type": "code",
      "execution_count": null,
      "metadata": {
        "id": "dRLbver-Emf8",
        "colab": {
          "base_uri": "https://localhost:8080/"
        },
        "outputId": "d976774b-6d86-4b6f-fabb-41dab48bb460"
      },
      "outputs": [
        {
          "output_type": "execute_result",
          "data": {
            "text/plain": [
              "15"
            ]
          },
          "metadata": {},
          "execution_count": 11
        }
      ],
      "source": [
        "from functools import reduce\n",
        "reduce(lambda x, y: x + y, [1, 2, 3, 4, 5])"
      ]
    },
    {
      "cell_type": "markdown",
      "metadata": {
        "id": "6svmrNRmEmgA"
      },
      "source": [
        "# Functional programming and parallelism\n",
        "\n",
        "- Functional programming lends itself to [parallel programming](https://computing.llnl.gov/tutorials/parallel_comp/#Models).\n",
        "\n",
        "- The `map` function can easily be parallelised through [data-level parallelism](https://en.wikipedia.org/wiki/Data_parallelism),\n",
        "    - provided that the function we supply as an argument is *free from* [side-effects](https://en.wikipedia.org/wiki/Side_effect_%28computer_science%29)\n",
        "        - (which is why we avoid working with mutable data).\n",
        "\n",
        "- We can see this by rewriting it so:\n"
      ]
    },
    {
      "cell_type": "code",
      "execution_count": null,
      "metadata": {
        "id": "iO0G5hrsEmgB"
      },
      "outputs": [],
      "source": [
        "def perform_computation(f, result, data, i):\n",
        "    print (\"Computing the \", i, \"th/st/nd result...\")\n",
        "    # This could be scheduled on a different CPU\n",
        "    result[i] = f(data[i])\n",
        "\n",
        "def my_map(f, data):\n",
        "    result = [None] * len(data)\n",
        "    for i in range(len(data)):\n",
        "        perform_computation(f, result, data, i)\n",
        "    # Wait for other CPUs to finish, and then..\n",
        "    return result"
      ]
    },
    {
      "cell_type": "code",
      "execution_count": null,
      "metadata": {
        "id": "SsJJQ6rTEmgB",
        "colab": {
          "base_uri": "https://localhost:8080/"
        },
        "outputId": "5a5f7fe0-e556-412a-ab7a-03a5f3622ac0"
      },
      "outputs": [
        {
          "output_type": "stream",
          "name": "stdout",
          "text": [
            "Computing the  0 th/st/nd result...\n",
            "Computing the  1 th/st/nd result...\n",
            "Computing the  2 th/st/nd result...\n",
            "Computing the  3 th/st/nd result...\n",
            "Computing the  4 th/st/nd result...\n"
          ]
        },
        {
          "output_type": "execute_result",
          "data": {
            "text/plain": [
              "[1, 4, 9, 16, 25]"
            ]
          },
          "metadata": {},
          "execution_count": 14
        }
      ],
      "source": [
        "my_map(lambda x: x * x, [1, 2, 3, 4, 5])"
      ]
    },
    {
      "cell_type": "markdown",
      "metadata": {
        "id": "XoUnGkEdEmgB"
      },
      "source": [
        "## A multi-threaded `map` function"
      ]
    },
    {
      "cell_type": "code",
      "execution_count": null,
      "metadata": {
        "id": "QXuC47wGEmgB"
      },
      "outputs": [],
      "source": [
        "from threading import Thread\n",
        "\n",
        "def schedule_computation_threaded(f, result, data, threads, i):\n",
        "    # Each function evaluation is scheduled on a different core.\n",
        "    def my_job():\n",
        "        print (\"Processing data:\", data[i], \"... \")\n",
        "        result[i] = f(data[i])\n",
        "        print (\"Finished job #\", i)\n",
        "        print (\"Result was\", result[i])\n",
        "    threads[i] = Thread(target=my_job)"
      ]
    },
    {
      "cell_type": "markdown",
      "source": [
        "## Use this schedule_computation_threaded function to parallelise the above `my_map` function. Let's call the parallel function - `my_map_multithreaded`"
      ],
      "metadata": {
        "id": "b6jLnbiKRoh4"
      }
    },
    {
      "cell_type": "code",
      "source": [
        "def my_map_multithreaded(f, data):\n",
        "  ## fill your code here ##\n",
        "  return"
      ],
      "metadata": {
        "id": "6Kh2m1N3RqsH"
      },
      "execution_count": null,
      "outputs": []
    },
    {
      "cell_type": "code",
      "execution_count": null,
      "metadata": {
        "id": "EUJpFWjvEmgB"
      },
      "outputs": [],
      "source": [
        "my_map_multithreaded(lambda x: x*x, [1, 2, 3, 4, 5])"
      ]
    },
    {
      "cell_type": "markdown",
      "source": [
        "## Map Reduce\n",
        "\n",
        "- Map Reduce is a _programming model_ for scalable parallel processing.\n",
        "- Scalable here means that it can work on big data with very large compute clusters.\n",
        "- There are many implementations: e.g. Apache Hadoop and Apache Spark.\n",
        "- We can use Map-Reduce with any programming language:\n",
        "    - Hadoop is written in Java\n",
        "    - Spark is written in Scala, but has a Python interface.\n",
        "- *Functional programming* languages such as Python or Scala fit very well with the Map Reduce model:\n",
        "    - However, we don't *have* to use functional programming."
      ],
      "metadata": {
        "id": "1P0_lsIVuiY3"
      }
    },
    {
      "cell_type": "markdown",
      "metadata": {
        "id": "32xsG3kFu_mG"
      },
      "source": [
        "## Word Count Example\n",
        "\n",
        "- In this simple example, the input is a set of URLs, each record is a document.\n",
        "\n",
        "- Problem: compute how many times each word has occurred across data set."
      ]
    },
    {
      "cell_type": "markdown",
      "metadata": {
        "id": "dzBXsYEju_mH"
      },
      "source": [
        "## Word Count: Map\n",
        "\n",
        "\n",
        "- The input to $\\operatorname{map}$ is a mapping:\n",
        "\n",
        "- Key: URL\n",
        "- Value: Contents of document"
      ]
    },
    {
      "cell_type": "markdown",
      "metadata": {
        "id": "3hOinLM6u_mI"
      },
      "source": [
        "$\\left< document1, to \\; be \\; or \\; not \\; to \\; be \\right>$  \n",
        "    \n",
        "\n",
        "- In this example, our $\\operatorname{map}$ function will process a given URL, and produces a mapping:"
      ]
    },
    {
      "cell_type": "markdown",
      "metadata": {
        "id": "CXUj3HYLu_mJ"
      },
      "source": [
        "- Key: word\n",
        "- Value: 1\n",
        "\n",
        "- So our original data-set will be transformed to:\n",
        "  \n",
        "  $\\left< to, 1 \\right>$\n",
        "  $\\left< be, 1 \\right>$\n",
        "  $\\left< or, 1 \\right>$\n",
        "  $\\left< not, 1 \\right>$\n",
        "  $\\left< to, 1 \\right>$\n",
        "  $\\left< be, 1 \\right>$"
      ]
    },
    {
      "cell_type": "code",
      "source": [
        "## Add code for \"Map\" phase here"
      ],
      "metadata": {
        "id": "ya-MSbYUR2PX"
      },
      "execution_count": null,
      "outputs": []
    },
    {
      "cell_type": "markdown",
      "source": [
        "## Word Count: Shuffle\n",
        "\n",
        "Description: Make sure the values for the same key are grouped.\n",
        "\n",
        "Output to be equivalent to -\n",
        "$\\left< to, [1, 1] \\right>$\n",
        "  $\\left< be, [1, 1] \\right>$\n",
        "  $\\left< or, 1 \\right>$\n",
        "  $\\left< not, 1 \\right>$"
      ],
      "metadata": {
        "id": "8bSwz9bYvvUe"
      }
    },
    {
      "cell_type": "code",
      "source": [
        "###### Add code for \"Shuffle\" here ######"
      ],
      "metadata": {
        "id": "Xr8HA6KYv-Jx"
      },
      "execution_count": null,
      "outputs": []
    },
    {
      "cell_type": "markdown",
      "metadata": {
        "id": "BmoCB0pTu_mJ"
      },
      "source": [
        "## Word Count: Reduce\n",
        "\n",
        "\n",
        "Description: Reduce values to sum of counts.\n",
        "\n",
        "Output to be equivalent to -\n",
        "$\\left< to, 2 \\right>$\n",
        "  $\\left< be, 2 \\right>$\n",
        "  $\\left< or, 1 \\right>$\n",
        "  $\\left< not, 1 \\right>$\n",
        "  "
      ]
    },
    {
      "cell_type": "code",
      "source": [
        "###### Add your code for \"Reduce\" here #######"
      ],
      "metadata": {
        "id": "X-8ItflUwMiF"
      },
      "execution_count": null,
      "outputs": []
    },
    {
      "cell_type": "markdown",
      "source": [
        "# Map Reduce in Hadoop"
      ],
      "metadata": {
        "id": "GAtY9TsLSsd1"
      }
    },
    {
      "cell_type": "code",
      "source": [
        "#!/usr/bin/env python\n",
        "\"\"\"mapper.py\"\"\"\n",
        "\n",
        "import sys\n",
        "\n",
        "# input comes from STDIN (standard input)\n",
        "for line in sys.stdin:\n",
        "    # remove leading and trailing whitespace from `line`\n",
        "    \"\"\"\n",
        "    PLACEHOLDER - 1\n",
        "    \"\"\"\n",
        "\n",
        "    # split the line into \"words\"\n",
        "    \"\"\"\n",
        "    PLACEHOLDER - 2\n",
        "    \"\"\"\n",
        "\n",
        "    # increase counters\n",
        "    for word in words:\n",
        "        # write the results to STDOUT (standard output);\n",
        "        # what we output here will be the input for the\n",
        "        # Reduce step, i.e. the input for reducer.py\n",
        "        #\n",
        "        # \"word\" with tab-delimited \"word count\"; the trivial word count is 1\n",
        "        \"\"\"\n",
        "        PLACEHOLDER - 3\n",
        "        \"\"\""
      ],
      "metadata": {
        "id": "EcTeRJbmSuB_"
      },
      "execution_count": null,
      "outputs": []
    },
    {
      "cell_type": "markdown",
      "source": [
        "## Test your Mapper\n",
        "\n",
        "`echo \"foo foo quux labs foo bar quux\" | /home/hduser/mapper.py`"
      ],
      "metadata": {
        "id": "h-oRyp8QUOc_"
      }
    },
    {
      "cell_type": "code",
      "source": [
        "#!/usr/bin/env python\n",
        "\"\"\"reducer.py\"\"\"\n",
        "\n",
        "from operator import itemgetter\n",
        "import sys\n",
        "\n",
        "current_word = None\n",
        "current_count = 0\n",
        "word = None\n",
        "\n",
        "# input comes from STDIN\n",
        "for line in sys.stdin:\n",
        "    # remove leading and trailing whitespace\n",
        "    line = line.strip()\n",
        "\n",
        "    # parse the input we got from mapper.py into \"word\" & \"count\" variables\n",
        "    \"\"\"\n",
        "    PLACEHOLDER - 4\n",
        "    \"\"\"\n",
        "\n",
        "    # typecast count (currently a string) to int\n",
        "    try:\n",
        "        \"\"\"\n",
        "        PLACEHOLDER - 5\n",
        "        \"\"\"\n",
        "    except ValueError:\n",
        "        # count was not a number, so silently\n",
        "        # ignore/discard this line\n",
        "        continue\n",
        "\n",
        "    # this IF-switch only works because Hadoop sorts map output\n",
        "    # by key (here: word) before it is passed to the reducer\n",
        "    if current_word == word:\n",
        "        current_count += count\n",
        "    else:\n",
        "        if current_word:\n",
        "            # write result to STDOUT\n",
        "            print ('%s\\t%s' % (current_word, current_count))\n",
        "        current_count = count\n",
        "        current_word = word\n",
        "\n",
        "# do not forget to output the last word if needed!\n",
        "if current_word == word:\n",
        "    print ('%s\\t%s' % (current_word, current_count))"
      ],
      "metadata": {
        "id": "BtqcsZpWTici"
      },
      "execution_count": null,
      "outputs": []
    },
    {
      "cell_type": "markdown",
      "source": [
        "## Running your MapReduce implementation in Hadoop\n",
        "\n",
        "```\n",
        "hadoop jar hadoop-streaming-2.7.3.jar \\\n",
        "-input <input_file> \\\n",
        "-output <output_location> \\\n",
        "-mapper mapper.py \\\n",
        "-reducer reducer.py\n",
        "```"
      ],
      "metadata": {
        "id": "o6ywW9NeUM-l"
      }
    },
    {
      "cell_type": "code",
      "source": [],
      "metadata": {
        "id": "OFdQyQjVUeKm"
      },
      "execution_count": null,
      "outputs": []
    }
  ]
}
