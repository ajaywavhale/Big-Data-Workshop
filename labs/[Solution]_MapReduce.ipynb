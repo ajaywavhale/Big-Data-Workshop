{
  "nbformat": 4,
  "nbformat_minor": 0,
  "metadata": {
    "colab": {
      "provenance": [],
      "authorship_tag": "ABX9TyMFJ6zFVqvBm3tUsbkFHz45",
      "include_colab_link": true
    },
    "kernelspec": {
      "name": "python3",
      "display_name": "Python 3"
    },
    "language_info": {
      "name": "python"
    }
  },
  "cells": [
    {
      "cell_type": "markdown",
      "metadata": {
        "id": "view-in-github",
        "colab_type": "text"
      },
      "source": [
        "<a href=\"https://colab.research.google.com/github/namitakalra-google/Big-Data-Workshop/blob/main/labs/%5BSolution%5D_MapReduce.ipynb\" target=\"_parent\"><img src=\"https://colab.research.google.com/assets/colab-badge.svg\" alt=\"Open In Colab\"/></a>"
      ]
    },
    {
      "cell_type": "markdown",
      "source": [
        "<center><h1>Introduction to Map Reduce</h1></center>"
      ],
      "metadata": {
        "id": "i8nJdQs-sOHm"
      }
    },
    {
      "cell_type": "markdown",
      "source": [
        "### Overview\n",
        "\n",
        "1. Recap of functional programming in Python\n",
        "2. Python's `map` and `reduce` functions\n",
        "3. Writing parallel code using `map`\n",
        "4. The Map-Reduce programming model"
      ],
      "metadata": {
        "id": "_uk6RLU3sSTo"
      }
    },
    {
      "cell_type": "markdown",
      "metadata": {
        "id": "66LbLb3cEmfz"
      },
      "source": [
        "## Functional programming\n",
        "\n",
        "Consider the following code:"
      ]
    },
    {
      "cell_type": "code",
      "execution_count": null,
      "metadata": {
        "id": "phDlwkAnEmfz"
      },
      "outputs": [],
      "source": [
        "def double_everything_in(data):\n",
        "    result = []\n",
        "    for i in data:\n",
        "        result.append(2 * i)\n",
        "    return result\n",
        "\n",
        "def quadruple_everything_in(data):\n",
        "    result = []\n",
        "    for i in data:\n",
        "        result.append(4 * i)\n",
        "    return result"
      ]
    },
    {
      "cell_type": "code",
      "execution_count": null,
      "metadata": {
        "id": "VvdpwihaEmf1",
        "outputId": "e565b35e-e665-4492-a90c-8f5bf1c71031",
        "colab": {
          "base_uri": "https://localhost:8080/"
        }
      },
      "outputs": [
        {
          "output_type": "execute_result",
          "data": {
            "text/plain": [
              "[2, 4, 6, 8, 10]"
            ]
          },
          "metadata": {},
          "execution_count": 2
        }
      ],
      "source": [
        "double_everything_in([1, 2, 3, 4, 5])"
      ]
    },
    {
      "cell_type": "code",
      "execution_count": null,
      "metadata": {
        "id": "ULdAr-dWEmf2",
        "outputId": "e58bfa51-d3a6-4620-eef8-ac4227b55028",
        "colab": {
          "base_uri": "https://localhost:8080/"
        }
      },
      "outputs": [
        {
          "output_type": "execute_result",
          "data": {
            "text/plain": [
              "[4, 8, 12, 16, 20]"
            ]
          },
          "metadata": {},
          "execution_count": 3
        }
      ],
      "source": [
        "quadruple_everything_in([1, 2, 3, 4, 5])"
      ]
    },
    {
      "cell_type": "markdown",
      "metadata": {
        "id": "PFUb9kCyEmf3"
      },
      "source": [
        "### DRY - Fundamental Programming Concept\n",
        "\n",
        "- The above code violates the [\"do not repeat yourself\"](https://en.wikipedia.org/wiki/Don't_repeat_yourself_) principle of good software engineering practice.\n",
        "\n",
        "- How can rewrite the code so that it avoids duplication?"
      ]
    },
    {
      "cell_type": "code",
      "execution_count": null,
      "metadata": {
        "id": "7R5wIawZEmf3"
      },
      "outputs": [],
      "source": [
        "def multiply_by_x_everything_in(x, data):\n",
        "    result = []\n",
        "    for i in data:\n",
        "        result.append(x * i)\n",
        "    return result"
      ]
    },
    {
      "cell_type": "code",
      "execution_count": null,
      "metadata": {
        "id": "S5RII4-lEmf3",
        "outputId": "4b6890ac-51d0-41f2-bf63-4fcc4e2b34e1",
        "colab": {
          "base_uri": "https://localhost:8080/"
        }
      },
      "outputs": [
        {
          "output_type": "execute_result",
          "data": {
            "text/plain": [
              "[2, 4, 6, 8, 10]"
            ]
          },
          "metadata": {},
          "execution_count": 5
        }
      ],
      "source": [
        "multiply_by_x_everything_in(2, [1, 2, 3, 4, 5])"
      ]
    },
    {
      "cell_type": "code",
      "execution_count": null,
      "metadata": {
        "id": "E6OsjV0nEmf4",
        "outputId": "d3d1f9a1-9cdb-4bd3-8ba9-66c59f8b30cc",
        "colab": {
          "base_uri": "https://localhost:8080/"
        }
      },
      "outputs": [
        {
          "output_type": "execute_result",
          "data": {
            "text/plain": [
              "[4, 8, 12, 16, 20]"
            ]
          },
          "metadata": {},
          "execution_count": 6
        }
      ],
      "source": [
        "multiply_by_x_everything_in(4, [1, 2, 3, 4, 5])"
      ]
    },
    {
      "cell_type": "markdown",
      "metadata": {
        "id": "ruC7NCZdEmf4"
      },
      "source": [
        "- Now consider the following code:"
      ]
    },
    {
      "cell_type": "code",
      "execution_count": null,
      "metadata": {
        "id": "HnsAgaWUEmf4"
      },
      "outputs": [],
      "source": [
        "def squared(x):\n",
        "    return x*x\n",
        "\n",
        "def double(x):\n",
        "    return x*2\n",
        "\n",
        "def square_everything_in(data):\n",
        "    result = []\n",
        "    for i in data:\n",
        "        result.append(squared(i))\n",
        "    return result\n",
        "\n",
        "def double_everything_in(data):\n",
        "    result = []\n",
        "    for i in data:\n",
        "        result.append(double(i))\n",
        "    return result"
      ]
    },
    {
      "cell_type": "code",
      "execution_count": null,
      "metadata": {
        "id": "0_UW5EduEmf4",
        "outputId": "eceebca9-9ea9-444b-a5da-edd0d7ff1a43",
        "colab": {
          "base_uri": "https://localhost:8080/"
        }
      },
      "outputs": [
        {
          "output_type": "execute_result",
          "data": {
            "text/plain": [
              "[1, 4, 9, 16, 25]"
            ]
          },
          "metadata": {},
          "execution_count": 8
        }
      ],
      "source": [
        "square_everything_in([1, 2, 3, 4, 5])"
      ]
    },
    {
      "cell_type": "code",
      "execution_count": null,
      "metadata": {
        "id": "c1wEvd9eEmf4",
        "outputId": "7c595866-e948-40ef-943f-ed0de66bdbce",
        "colab": {
          "base_uri": "https://localhost:8080/"
        }
      },
      "outputs": [
        {
          "output_type": "execute_result",
          "data": {
            "text/plain": [
              "[2, 4, 6, 8, 10]"
            ]
          },
          "metadata": {},
          "execution_count": 9
        }
      ],
      "source": [
        "double_everything_in([1, 2, 3, 4, 5])"
      ]
    },
    {
      "cell_type": "markdown",
      "metadata": {
        "id": "Ay8d7PMhEmf5"
      },
      "source": [
        "### DRY - Fundamental Programming Concept\n",
        "- The above code violates the [\"do not repeat yourself\"](https://en.wikipedia.org/wiki/Don't_repeat_yourself_) principle of good software engineering practice.\n",
        "\n",
        "- How can rewrite the code so that it avoids duplication?"
      ]
    },
    {
      "cell_type": "markdown",
      "metadata": {
        "id": "1by9NghwEmf5"
      },
      "source": [
        "### Passing Functions as Values\n",
        "- Functions can be passed to other functions as values.\n",
        "-\n"
      ]
    },
    {
      "cell_type": "code",
      "execution_count": null,
      "metadata": {
        "id": "A-OkR9jcEmf5"
      },
      "outputs": [],
      "source": [
        "def apply_f_to_everything_in(f, data):\n",
        "    result = []\n",
        "    for x in data:\n",
        "        result.append(f(x))\n",
        "    return result"
      ]
    },
    {
      "cell_type": "code",
      "execution_count": null,
      "metadata": {
        "id": "LwDOQ2ZBEmf5",
        "outputId": "3fccab47-ef2c-45cc-a36f-64265dd14e2d",
        "colab": {
          "base_uri": "https://localhost:8080/"
        }
      },
      "outputs": [
        {
          "output_type": "execute_result",
          "data": {
            "text/plain": [
              "[1, 4, 9, 16, 25]"
            ]
          },
          "metadata": {},
          "execution_count": 11
        }
      ],
      "source": [
        "apply_f_to_everything_in(squared, [1, 2, 3, 4, 5])"
      ]
    },
    {
      "cell_type": "code",
      "execution_count": null,
      "metadata": {
        "id": "FSs_YIN0Emf5",
        "outputId": "434da2b2-be2d-4009-87fb-d348a0cc3c1d",
        "colab": {
          "base_uri": "https://localhost:8080/"
        }
      },
      "outputs": [
        {
          "output_type": "execute_result",
          "data": {
            "text/plain": [
              "[2, 4, 6, 8, 10]"
            ]
          },
          "metadata": {},
          "execution_count": 12
        }
      ],
      "source": [
        "apply_f_to_everything_in(double, [1, 2, 3, 4, 5])"
      ]
    },
    {
      "cell_type": "markdown",
      "metadata": {
        "id": "k7LCBcrSEmf5"
      },
      "source": [
        "### Lambda expressions\n",
        "\n",
        "- We can use anonymous functions to save having to define a function each time we want to use map."
      ]
    },
    {
      "cell_type": "code",
      "execution_count": null,
      "metadata": {
        "id": "ydAI6YuOEmf6",
        "outputId": "50a8721d-e1fe-4411-bdb4-187769eb4c68",
        "colab": {
          "base_uri": "https://localhost:8080/"
        }
      },
      "outputs": [
        {
          "output_type": "execute_result",
          "data": {
            "text/plain": [
              "[1, 4, 9, 16, 25]"
            ]
          },
          "metadata": {},
          "execution_count": 13
        }
      ],
      "source": [
        "apply_f_to_everything_in(lambda x: x*x, [1, 2, 3, 4, 5])"
      ]
    },
    {
      "cell_type": "markdown",
      "metadata": {
        "id": "gMUO-dOrEmf6"
      },
      "source": [
        "# Python's `map` function\n",
        "\n",
        "- Python has a built-in function `map` which is much faster than our version.\n",
        "\n"
      ]
    },
    {
      "cell_type": "code",
      "execution_count": null,
      "metadata": {
        "id": "lGbe_3-_Emf6",
        "outputId": "f1572625-d24e-40b2-fcc4-15fefd9439d2",
        "colab": {
          "base_uri": "https://localhost:8080/"
        }
      },
      "outputs": [
        {
          "output_type": "execute_result",
          "data": {
            "text/plain": [
              "<map at 0x7b7192d304c0>"
            ]
          },
          "metadata": {},
          "execution_count": 14
        }
      ],
      "source": [
        "map(lambda x: x*x, [1, 2, 3, 4, 5])"
      ]
    },
    {
      "cell_type": "code",
      "source": [
        "list(map(lambda x: x*x, [1, 2, 3, 4, 5]))"
      ],
      "metadata": {
        "colab": {
          "base_uri": "https://localhost:8080/"
        },
        "id": "eJ1hQFqssgcB",
        "outputId": "3645555a-3214-4235-8429-f2db58116b29"
      },
      "execution_count": null,
      "outputs": [
        {
          "output_type": "execute_result",
          "data": {
            "text/plain": [
              "[1, 4, 9, 16, 25]"
            ]
          },
          "metadata": {},
          "execution_count": 15
        }
      ]
    },
    {
      "cell_type": "markdown",
      "metadata": {
        "id": "yVJLiQnBEmf6"
      },
      "source": [
        "## Implementing reduce\n",
        "\n",
        "- The `reduce` function is an example of a [fold](https://en.wikipedia.org/wiki/Fold_%28higher-order_function%29).\n",
        "\n",
        "- There are different ways we can fold data.\n",
        "\n",
        "- The following implements a *left* fold.\n"
      ]
    },
    {
      "cell_type": "code",
      "execution_count": null,
      "metadata": {
        "id": "EQoyhtZ0Emf6"
      },
      "outputs": [],
      "source": [
        "def foldl(f, data, z):\n",
        "    if (len(data) == 0):\n",
        "        print (z)\n",
        "        return z\n",
        "    else:\n",
        "        head = data[0]\n",
        "        tail = data[1:]\n",
        "        print (\"Folding\", head, \"with\", tail, \"using\", z)\n",
        "        partial_result = f(z, data[0])\n",
        "        print (\"Partial result is\", partial_result)\n",
        "        return foldl(f, tail, partial_result)"
      ]
    },
    {
      "cell_type": "code",
      "execution_count": null,
      "metadata": {
        "outputId": "d5cb4ff5-af05-4571-81b9-69505ce3317d",
        "id": "i2vX8l0DuIgO"
      },
      "outputs": [
        {
          "name": "stdout",
          "output_type": "stream",
          "text": [
            "Folding 1 with [2, 3, 4, 5] using 0\n",
            "Partial result is 1\n",
            "Folding 2 with [3, 4, 5] using 1\n",
            "Partial result is 3\n",
            "Folding 3 with [4, 5] using 3\n",
            "Partial result is 6\n",
            "Folding 4 with [5] using 6\n",
            "Partial result is 10\n",
            "Folding 5 with [] using 10\n",
            "Partial result is 15\n",
            "15\n"
          ]
        },
        {
          "data": {
            "text/plain": [
              "15"
            ]
          },
          "execution_count": 24,
          "metadata": {},
          "output_type": "execute_result"
        }
      ],
      "source": [
        "foldl(lambda x, y: x + y, [1, 2, 3, 4, 5], 0)"
      ]
    },
    {
      "cell_type": "markdown",
      "metadata": {
        "id": "kc3HsKwYEmf8"
      },
      "source": [
        "## Python's `reduce` function.\n",
        "\n",
        "- Python's built-in `reduce` function is a *left* fold."
      ]
    },
    {
      "cell_type": "code",
      "execution_count": null,
      "metadata": {
        "id": "dRLbver-Emf8",
        "outputId": "75cd638f-1133-48ff-d5b2-74248253304e"
      },
      "outputs": [
        {
          "data": {
            "text/plain": [
              "15"
            ]
          },
          "execution_count": 32,
          "metadata": {},
          "output_type": "execute_result"
        }
      ],
      "source": [
        "from functools import reduce\n",
        "reduce(lambda x, y: x + y, [1, 2, 3, 4, 5])"
      ]
    },
    {
      "cell_type": "markdown",
      "metadata": {
        "id": "6svmrNRmEmgA"
      },
      "source": [
        "# Functional programming and parallelism\n",
        "\n",
        "- Functional programming lends itself to [parallel programming](https://computing.llnl.gov/tutorials/parallel_comp/#Models).\n",
        "\n",
        "- The `map` function can easily be parallelised through [data-level parallelism](https://en.wikipedia.org/wiki/Data_parallelism),\n",
        "    - provided that the function we supply as an argument is *free from* [side-effects](https://en.wikipedia.org/wiki/Side_effect_%28computer_science%29)\n",
        "        - (which is why we avoid working with mutable data).\n",
        "\n",
        "- We can see this by rewriting it so:\n"
      ]
    },
    {
      "cell_type": "code",
      "execution_count": null,
      "metadata": {
        "id": "iO0G5hrsEmgB"
      },
      "outputs": [],
      "source": [
        "def perform_computation(f, result, data, i):\n",
        "    print (\"Computing the \", i, \"th result...\")\n",
        "    # This could be scheduled on a different CPU\n",
        "    result[i] = f(data[i])\n",
        "\n",
        "def my_map(f, data):\n",
        "    result = [None] * len(data)\n",
        "    for i in range(len(data)):\n",
        "        perform_computation(f, result, data, i)\n",
        "    # Wait for other CPUs to finish, and then..\n",
        "    return result"
      ]
    },
    {
      "cell_type": "code",
      "execution_count": null,
      "metadata": {
        "id": "SsJJQ6rTEmgB",
        "outputId": "3c6afd5b-da9c-4cd5-f94c-726afa66327c"
      },
      "outputs": [
        {
          "name": "stdout",
          "output_type": "stream",
          "text": [
            "Computing the  0 th result...\n",
            "Computing the  1 th result...\n",
            "Computing the  2 th result...\n",
            "Computing the  3 th result...\n",
            "Computing the  4 th result...\n"
          ]
        },
        {
          "data": {
            "text/plain": [
              "[1, 4, 9, 16, 25]"
            ]
          },
          "execution_count": 36,
          "metadata": {},
          "output_type": "execute_result"
        }
      ],
      "source": [
        "my_map(lambda x: x * x, [1, 2, 3, 4, 5])"
      ]
    },
    {
      "cell_type": "markdown",
      "metadata": {
        "id": "XoUnGkEdEmgB"
      },
      "source": [
        "## A multi-threaded `map` function"
      ]
    },
    {
      "cell_type": "code",
      "execution_count": null,
      "metadata": {
        "id": "QXuC47wGEmgB"
      },
      "outputs": [],
      "source": [
        "from threading import Thread\n",
        "\n",
        "def schedule_computation_threaded(f, result, data, threads, i):\n",
        "    # Each function evaluation is scheduled on a different core.\n",
        "    def my_job():\n",
        "        print (\"Processing data:\", data[i], \"... \")\n",
        "        result[i] = f(data[i])\n",
        "        print (\"Finished job #\", i)\n",
        "        print (\"Result was\", result[i])\n",
        "    threads[i] = Thread(target=my_job)\n",
        "\n",
        "def my_map_multithreaded(f, data):\n",
        "    n = len(data)\n",
        "    result = [None] * n\n",
        "    threads = [None] * n\n",
        "    print (\"Scheduling jobs.. \")\n",
        "    for i in range(n):\n",
        "        schedule_computation_threaded(f, result, data, threads, i)\n",
        "    print (\"Starting jobs.. \")\n",
        "    for i in range(n):\n",
        "        threads[i].start()\n",
        "    print (\"Waiting for jobs to finish.. \")\n",
        "    for i in range(n):\n",
        "        threads[i].join()\n",
        "    print (\"All done.\")\n",
        "    return result"
      ]
    },
    {
      "cell_type": "code",
      "execution_count": null,
      "metadata": {
        "id": "EUJpFWjvEmgB",
        "outputId": "4aa83a4b-58da-4b61-a5f8-a1af049a7a09",
        "colab": {
          "base_uri": "https://localhost:8080/"
        }
      },
      "outputs": [
        {
          "output_type": "stream",
          "name": "stdout",
          "text": [
            "Scheduling jobs.. \n",
            "Starting jobs.. \n",
            "Processing data: 1 ... \n",
            "Finished job # 0\n",
            "Result was 1\n",
            "Processing data: 2 ... \n",
            "Finished job # 1\n",
            "Result was 4\n",
            "Processing data: 3 ... \n",
            "Finished job # 2\n",
            "Result was 9\n",
            "Processing data: 4 ... \n",
            "Finished job # 3\n",
            "Result was 16\n",
            "Processing data:Waiting for jobs to finish.. \n",
            " 5 ... \n",
            "Finished job # 4\n",
            "Result was 25\n",
            "All done.\n"
          ]
        },
        {
          "output_type": "execute_result",
          "data": {
            "text/plain": [
              "[1, 4, 9, 16, 25]"
            ]
          },
          "metadata": {},
          "execution_count": 2
        }
      ],
      "source": [
        "my_map_multithreaded(lambda x: x*x, [1, 2, 3, 4, 5])"
      ]
    },
    {
      "cell_type": "markdown",
      "source": [
        "## Map Reduce\n",
        "\n",
        "- Map Reduce is a _programming model_ for scalable parallel processing.\n",
        "- Scalable here means that it can work on big data with very large compute clusters.\n",
        "- There are many implementations: e.g. Apache Hadoop and Apache Spark.\n",
        "- We can use Map-Reduce with any programming language:\n",
        "    - Hadoop is written in Java\n",
        "    - Spark is written in Scala, but has a Python interface.\n",
        "- *Functional programming* languages such as Python or Scala fit very well with the Map Reduce model:\n",
        "    - However, we don't *have* to use functional programming."
      ],
      "metadata": {
        "id": "1P0_lsIVuiY3"
      }
    },
    {
      "cell_type": "markdown",
      "metadata": {
        "id": "32xsG3kFu_mG"
      },
      "source": [
        "## Word Count Example\n",
        "\n",
        "- In this simple example, the input is a set of URLs, each record is a document.\n",
        "\n",
        "- Problem: compute how many times each word has occurred across data set."
      ]
    },
    {
      "cell_type": "markdown",
      "metadata": {
        "id": "dzBXsYEju_mH"
      },
      "source": [
        "## Word Count: Map\n",
        "\n",
        "\n",
        "- The input to $\\operatorname{map}$ is a mapping:\n",
        "\n",
        "- Key: URL\n",
        "- Value: Contents of document"
      ]
    },
    {
      "cell_type": "markdown",
      "metadata": {
        "id": "3hOinLM6u_mI"
      },
      "source": [
        "$\\left< document1, to \\; be \\; or \\; not \\; to \\; be \\right>$  \n",
        "    \n",
        "\n",
        "- In this example, our $\\operatorname{map}$ function will process a given URL, and produces a mapping:"
      ]
    },
    {
      "cell_type": "markdown",
      "metadata": {
        "id": "CXUj3HYLu_mJ"
      },
      "source": [
        "- Key: word\n",
        "- Value: 1\n",
        "\n",
        "- So our original data-set will be transformed to:\n",
        "  \n",
        "  $\\left< to, 1 \\right>$\n",
        "  $\\left< be, 1 \\right>$\n",
        "  $\\left< or, 1 \\right>$\n",
        "  $\\left< not, 1 \\right>$\n",
        "  $\\left< to, 1 \\right>$\n",
        "  $\\left< be, 1 \\right>$"
      ]
    },
    {
      "cell_type": "code",
      "source": [
        "data = map(lambda x: (x, 1), \"to be or not to be\".split())\n",
        "data"
      ],
      "metadata": {
        "id": "l5OoTubyvqoX"
      },
      "execution_count": null,
      "outputs": []
    },
    {
      "cell_type": "markdown",
      "source": [
        "## Word Count: Shuffle\n",
        "\n",
        "Make sure the values for the same key are grouped\n",
        "\n",
        "\n",
        "Output to be equivalent to -\n",
        "$\\left< to, [1, 1] \\right>$\n",
        "  $\\left< be, [1, 1] \\right>$\n",
        "  $\\left< or, 1 \\right>$\n",
        "  $\\left< not, 1 \\right>$"
      ],
      "metadata": {
        "id": "8bSwz9bYvvUe"
      }
    },
    {
      "cell_type": "code",
      "source": [
        "def groupByKey(data):\n",
        "    result = dict()\n",
        "    for key, value in data:\n",
        "        if key in result:\n",
        "            result[key].append(value)\n",
        "        else:\n",
        "            result[key] = [value]\n",
        "    return result"
      ],
      "metadata": {
        "id": "Xr8HA6KYv-Jx"
      },
      "execution_count": null,
      "outputs": []
    },
    {
      "cell_type": "code",
      "source": [
        "grouped = groupByKey(data)"
      ],
      "metadata": {
        "id": "pRptiherv_H-"
      },
      "execution_count": null,
      "outputs": []
    },
    {
      "cell_type": "markdown",
      "metadata": {
        "id": "BmoCB0pTu_mJ"
      },
      "source": [
        "## Word Count: Reduce\n",
        "\n",
        "Output to be equivalent to -\n",
        "$\\left< to, 2 \\right>$\n",
        "  $\\left< be, 2 \\right>$\n",
        "  $\\left< or, 1 \\right>$\n",
        "  $\\left< not, 1 \\right>$\n",
        "  "
      ]
    },
    {
      "cell_type": "code",
      "source": [
        "def reduceByKey(f, data):\n",
        "    key_values = groupByKey(data)\n",
        "    return map(lambda key:\n",
        "                   (key, reduce(f, key_values[key])),\n",
        "                       key_values)"
      ],
      "metadata": {
        "id": "X-8ItflUwMiF"
      },
      "execution_count": null,
      "outputs": []
    },
    {
      "cell_type": "code",
      "source": [
        "reduceByKey(lambda x, y: x + y, data)"
      ],
      "metadata": {
        "id": "wcuw4QFawSCg"
      },
      "execution_count": null,
      "outputs": []
    }
  ]
}